{
 "cells": [
  {
   "cell_type": "code",
   "execution_count": 1,
   "id": "ad6d4288",
   "metadata": {
    "scrolled": true
   },
   "outputs": [],
   "source": [
    "import numpy as np\n",
    "import pandas as pd\n",
    "import time\n",
    "import cv2\n",
    "import matplotlib.pyplot as plt\n",
    "import tensorflow as tf\n",
    "from tensorflow.keras.models import Sequential\n",
    "from tensorflow.keras.layers import Dense, Dropout, Flatten ,BatchNormalization\n",
    "from tensorflow.keras.layers import Conv2D, MaxPooling2D\n",
    "\n",
    "import tensorflow.keras as keras"
   ]
  },
  {
   "cell_type": "code",
   "execution_count": 3,
   "id": "af3bb5a4",
   "metadata": {},
   "outputs": [],
   "source": [
    "traindata = np.load(\"traindata32.npy\")\n",
    "traindata_y = np.load(\"traindata_y.npy\")"
   ]
  },
  {
   "cell_type": "code",
   "execution_count": 2,
   "id": "68d79c67",
   "metadata": {},
   "outputs": [
    {
     "name": "stdout",
     "output_type": "stream",
     "text": [
      "finish: 0\n",
      "finish: 1000\n",
      "finish: 2000\n",
      "finish: 3000\n",
      "finish: 4000\n",
      "finish: 5000\n",
      "finish: 6000\n",
      "finish: 7000\n",
      "finish: 8000\n",
      "finish: 9000\n",
      "finish: 10000\n",
      "finish: 11000\n",
      "finish: 12000\n",
      "finish: 13000\n",
      "finish: 14000\n",
      "finish: 15000\n",
      "finish: 16000\n",
      "finish: 17000\n",
      "finish: 18000\n",
      "finish: 19000\n",
      "finish: 20000\n",
      "finish: 21000\n",
      "finish: 22000\n",
      "finish: 23000\n",
      "finish: 24000\n",
      "finish: 25000\n",
      "finish: 26000\n",
      "finish: 27000\n",
      "finish: 28000\n",
      "finish: 29000\n",
      "finish: 30000\n",
      "finish: 31000\n",
      "finish: 32000\n",
      "finish: 33000\n",
      "finish: 34000\n",
      "finish: 35000\n",
      "finish: 36000\n",
      "finish: 37000\n",
      "finish: 38000\n",
      "finish: 39000\n",
      "finish: 40000\n",
      "finish: 41000\n",
      "finish: 42000\n",
      "finish: 43000\n",
      "finish: 44000\n",
      "finish: 45000\n",
      "finish: 46000\n",
      "finish: 47000\n",
      "finish: 48000\n",
      "finish: 49000\n",
      "finish: 50000\n",
      "finish: 51000\n",
      "finish: 52000\n",
      "finish: 53000\n",
      "finish: 54000\n",
      "finish: 55000\n",
      "finish: 56000\n",
      "finish: 57000\n",
      "finish: 58000\n",
      "finish: 59000\n",
      "finish: 60000\n",
      "finish: 61000\n",
      "finish: 62000\n",
      "finish: 63000\n",
      "(63325, 32, 32, 3)\n",
      "63325\n"
     ]
    }
   ],
   "source": [
    "train_df=list()\n",
    "f = open('../data/train.txt')\n",
    "for line in f.readlines():\n",
    "    #print(line)\n",
    "    x = line.split()\n",
    "    train_df.append(x)\n",
    "f.close\n",
    "\n",
    "traindata = np.zeros(shape=(1,32,32,3),dtype=int)\n",
    "traindata_y = []\n",
    "for i in range(len(train_df)):\n",
    "    p1_1 = cv2.imread(\"../data/\"+train_df[i][0])\n",
    "    p1_2 = cv2.resize(p1_1, (32, 32))\n",
    "    #p1_2 = np.swapaxes(p1_2,0,2)\n",
    "    #p1_2 = np.swapaxes(p1_2,1,2)\n",
    "    traindata = np.append(traindata,[p1_2], axis=0)\n",
    "    traindata_y.append(int(train_df[i][1]))\n",
    "    if i %1000 ==0:\n",
    "        print(\"finish:\",i)\n",
    "traindata = traindata[1:]\n",
    "\n",
    "np.save(\"traindata32.npy\",traindata)\n",
    "np.save(\"traindata_y.npy\",traindata_y)\n",
    "print(traindata.shape)\n",
    "\n",
    "traindata_y = np.array(traindata_y)\n",
    "print(len(traindata_y))"
   ]
  },
  {
   "cell_type": "code",
   "execution_count": 2,
   "id": "a760ab0e",
   "metadata": {},
   "outputs": [],
   "source": [
    "traindata = np.load(\"traindata32.npy\")\n",
    "traindata_y = np.load(\"traindata_y.npy\")"
   ]
  },
  {
   "cell_type": "code",
   "execution_count": 3,
   "id": "2e0ab1d6",
   "metadata": {},
   "outputs": [
    {
     "name": "stdout",
     "output_type": "stream",
     "text": [
      "(450, 32, 32, 3)\n",
      "450\n"
     ]
    }
   ],
   "source": [
    "test_df=list()\n",
    "f = open('../data/test.txt')\n",
    "for line in f.readlines():\n",
    "    #print(line)\n",
    "    x = line.split()\n",
    "    test_df.append(x)\n",
    "f.close\n",
    "\n",
    "testdata = np.zeros(shape=(1,32,32,3),dtype=int)\n",
    "testdata_y = []\n",
    "for i in range(len(test_df)):\n",
    "    p1_1 = cv2.imread(\"../data/\"+test_df[i][0])\n",
    "    p1_2 = cv2.resize(p1_1, (32, 32))\n",
    "    #p1_2 = np.swapaxes(p1_2,0,2)\n",
    "    #p1_2 = np.swapaxes(p1_2,1,2)\n",
    "    testdata = np.append(testdata,[p1_2], axis=0)\n",
    "    testdata_y.append(int(test_df[i][1]))\n",
    "testdata = testdata[1:]\n",
    "\n",
    "print(testdata.shape)\n",
    "\n",
    "testdata_y = np.array(testdata_y)\n",
    "print(len(testdata_y))"
   ]
  },
  {
   "cell_type": "code",
   "execution_count": 4,
   "id": "5c00a5d6",
   "metadata": {},
   "outputs": [
    {
     "name": "stdout",
     "output_type": "stream",
     "text": [
      "(450, 32, 32, 3)\n",
      "450\n"
     ]
    }
   ],
   "source": [
    "val_df=list()\n",
    "f = open('../data/val.txt')\n",
    "for line in f.readlines():\n",
    "    #print(line)\n",
    "    x = line.split()\n",
    "    val_df.append(x)\n",
    "f.close\n",
    "\n",
    "valdata = np.zeros(shape=(1,32,32,3),dtype=int)\n",
    "valdata_y = []\n",
    "for i in range(len(val_df)):\n",
    "    p1_1 = cv2.imread(\"../data/\"+val_df[i][0])\n",
    "    p1_2 = cv2.resize(p1_1, (32, 32))\n",
    "    #p1_2 = np.swapaxes(p1_2,0,2)\n",
    "    #p1_2 = np.swapaxes(p1_2,1,2)\n",
    "    valdata = np.append(valdata,[p1_2], axis=0)\n",
    "    valdata_y.append(int(val_df[i][1]))\n",
    "valdata = valdata[1:]\n",
    "\n",
    "print(valdata.shape)\n",
    "\n",
    "valdata_y = np.array(valdata_y)\n",
    "print(len(valdata_y))"
   ]
  },
  {
   "cell_type": "markdown",
   "id": "b276b2ad",
   "metadata": {},
   "source": [
    "# 靜態圖做法"
   ]
  },
  {
   "cell_type": "code",
   "execution_count": 33,
   "id": "d51e65da",
   "metadata": {
    "scrolled": true
   },
   "outputs": [
    {
     "name": "stdout",
     "output_type": "stream",
     "text": [
      "Model: \"sequential_1\"\n",
      "_________________________________________________________________\n",
      "Layer (type)                 Output Shape              Param #   \n",
      "=================================================================\n",
      "conv2d_2 (Conv2D)            (None, 28, 28, 6)         456       \n",
      "_________________________________________________________________\n",
      "max_pooling2d_2 (MaxPooling2 (None, 14, 14, 6)         0         \n",
      "_________________________________________________________________\n",
      "batch_normalization_2 (Batch (None, 14, 14, 6)         24        \n",
      "_________________________________________________________________\n",
      "conv2d_3 (Conv2D)            (None, 10, 10, 16)        2416      \n",
      "_________________________________________________________________\n",
      "max_pooling2d_3 (MaxPooling2 (None, 5, 5, 16)          0         \n",
      "_________________________________________________________________\n",
      "batch_normalization_3 (Batch (None, 5, 5, 16)          64        \n",
      "_________________________________________________________________\n",
      "flatten_1 (Flatten)          (None, 400)               0         \n",
      "_________________________________________________________________\n",
      "dense_2 (Dense)              (None, 84)                33684     \n",
      "_________________________________________________________________\n",
      "dense_3 (Dense)              (None, 50)                4250      \n",
      "=================================================================\n",
      "Total params: 40,894\n",
      "Trainable params: 40,850\n",
      "Non-trainable params: 44\n",
      "_________________________________________________________________\n"
     ]
    }
   ],
   "source": [
    "model = Sequential()\n",
    "\n",
    "\n",
    "model.add(Conv2D(6, (5, 5), activation='relu', input_shape=(32, 32, 3)))\n",
    "model.add(MaxPooling2D(pool_size=(2, 2), strides=2, padding='same'))\n",
    "model.add(BatchNormalization())\n",
    "model.add(Conv2D(16, (5, 5), activation='relu'))\n",
    "model.add(MaxPooling2D(pool_size=(2, 2), strides=2, padding='same'))\n",
    "model.add(BatchNormalization())\n",
    "model.add(Flatten())  \n",
    "model.add(Dense(84, activation='relu'))  \n",
    "model.add(Dense(50, activation='softmax'))  \n",
    "model.summary()  \n",
    "\n"
   ]
  },
  {
   "cell_type": "code",
   "execution_count": 34,
   "id": "e340d98a",
   "metadata": {},
   "outputs": [],
   "source": [
    "from tensorflow.keras.optimizers import SGD\n",
    "\n",
    "sgd = SGD(learning_rate=0.01, decay=1e-6, momentum=0.9, nesterov=True)\n",
    "model.compile(loss='categorical_crossentropy',\n",
    "              optimizer=sgd,\n",
    "              metrics=['accuracy'])"
   ]
  },
  {
   "cell_type": "code",
   "execution_count": 35,
   "id": "fbaca08c",
   "metadata": {},
   "outputs": [],
   "source": [
    "traindata_y_keras = keras.utils.to_categorical(traindata_y, 50)\n",
    "testdata_y_keras = keras.utils.to_categorical(testdata_y, 50)\n",
    "valdata_y_keras = keras.utils.to_categorical(valdata_y, 50)"
   ]
  },
  {
   "cell_type": "code",
   "execution_count": 36,
   "id": "2724806a",
   "metadata": {},
   "outputs": [
    {
     "name": "stdout",
     "output_type": "stream",
     "text": [
      "Epoch 1/10\n",
      "634/634 [==============================] - 12s 19ms/step - loss: 3.4327 - accuracy: 0.1167\n",
      "Epoch 2/10\n",
      "634/634 [==============================] - 12s 19ms/step - loss: 3.0501 - accuracy: 0.1852\n",
      "Epoch 3/10\n",
      "634/634 [==============================] - 12s 18ms/step - loss: 2.9241 - accuracy: 0.2125\n",
      "Epoch 4/10\n",
      "634/634 [==============================] - 11s 18ms/step - loss: 2.8451 - accuracy: 0.2310\n",
      "Epoch 5/10\n",
      "634/634 [==============================] - 12s 18ms/step - loss: 2.7845 - accuracy: 0.2452\n",
      "Epoch 6/10\n",
      "634/634 [==============================] - 12s 18ms/step - loss: 2.7385 - accuracy: 0.2566\n",
      "Epoch 7/10\n",
      "634/634 [==============================] - 11s 18ms/step - loss: 2.7001 - accuracy: 0.2672\n",
      "Epoch 8/10\n",
      "634/634 [==============================] - 12s 18ms/step - loss: 2.6667 - accuracy: 0.2731\n",
      "Epoch 9/10\n",
      "634/634 [==============================] - 11s 18ms/step - loss: 2.6338 - accuracy: 0.2792\n",
      "Epoch 10/10\n",
      "634/634 [==============================] - 11s 18ms/step - loss: 2.6073 - accuracy: 0.2859\n"
     ]
    },
    {
     "data": {
      "text/plain": [
       "<keras.callbacks.History at 0x14ba32874c0>"
      ]
     },
     "execution_count": 36,
     "metadata": {},
     "output_type": "execute_result"
    }
   ],
   "source": [
    "model.fit(traindata, traindata_y_keras, epochs=10, batch_size=100)"
   ]
  },
  {
   "cell_type": "code",
   "execution_count": 44,
   "id": "a62bd9d6",
   "metadata": {},
   "outputs": [
    {
     "data": {
      "image/png": "[encoded data removed]",
      "text/plain": [
       "<Figure size 432x288 with 1 Axes>"
      ]
     },
     "metadata": {
      "needs_background": "light"
     },
     "output_type": "display_data"
    },
    {
     "data": {
      "image/png": "[encoded data removed]",
      "text/plain": [
       "<Figure size 432x288 with 1 Axes>"
      ]
     },
     "metadata": {
      "needs_background": "light"
     },
     "output_type": "display_data"
    }
   ],
   "source": [
    "epoch = [0,1,2,3,4,5,6,7,8,9]\n",
    "loss=[3.4327,3.0501 ,2.9241,2.8451,2.7845,2.7385,2.7001,2.6667,2.6338,2.6073]\n",
    "accuracy = [0.1167,0.1852,0.2125,0.2310,0.2452,0.2566,0.2672,0.2731,0.2792,0.2859]\n",
    "\n",
    "fig = plt.figure()\n",
    "ax = plt.subplot(111)\n",
    "ax.plot(epoch, loss)\n",
    "plt.title('train loss')  # 添加子标题\n",
    "plt.xlabel('epoch', fontsize=10)  # 添加轴标签\n",
    "plt.ylabel('loss', fontsize=10)\n",
    "fig.savefig('model1_loss.png')\n",
    "\n",
    "fig = plt.figure()\n",
    "ax = plt.subplot(111)\n",
    "ax.plot(epoch, accuracy)\n",
    "plt.title('train accuracy')  # 添加子标题\n",
    "plt.xlabel('epoch', fontsize=10)  # 添加轴标签\n",
    "plt.ylabel('accuracy', fontsize=10)\n",
    "fig.savefig('model1_acc.png')"
   ]
  },
  {
   "cell_type": "code",
   "execution_count": 39,
   "id": "d05afaea",
   "metadata": {},
   "outputs": [],
   "source": [
    "y_pred_test = model.predict(testdata)\n",
    "y_pred_val = model.predict(valdata)\n",
    "\n",
    "labels_test = np.argmax(y_pred_test, axis = 1)\n",
    "labels_val = np.argmax(y_pred_val, axis = 1)\n",
    "\n",
    "#np.savetxt(\"out_test.csv\", labels_test, delimiter=\",\")\n",
    "#np.savetxt(\"out_val.csv\", labels_val, delimiter=\",\")"
   ]
  },
  {
   "cell_type": "code",
   "execution_count": 40,
   "id": "1538e8d5",
   "metadata": {},
   "outputs": [
    {
     "name": "stdout",
     "output_type": "stream",
     "text": [
      "0.24444444444444444\n",
      "0.24222222222222223\n"
     ]
    }
   ],
   "source": [
    "print(sum(labels_test == testdata_y)/len(testdata_y))\n",
    "print(sum(labels_val == valdata_y)/len(valdata_y))"
   ]
  },
  {
   "cell_type": "markdown",
   "id": "0d334397",
   "metadata": {},
   "source": [
    "# puring"
   ]
  },
  {
   "cell_type": "code",
   "execution_count": 37,
   "id": "5e3864d1",
   "metadata": {},
   "outputs": [
    {
     "name": "stdout",
     "output_type": "stream",
     "text": [
      "Model: \"sequential_1\"\n",
      "_________________________________________________________________\n",
      "Layer (type)                 Output Shape              Param #   \n",
      "=================================================================\n",
      "prune_low_magnitude_conv2d_2 (None, 28, 28, 6)         908       \n",
      "_________________________________________________________________\n",
      "prune_low_magnitude_max_pool (None, 14, 14, 6)         1         \n",
      "_________________________________________________________________\n",
      "prune_low_magnitude_batch_no (None, 14, 14, 6)         25        \n",
      "_________________________________________________________________\n",
      "prune_low_magnitude_conv2d_3 (None, 10, 10, 16)        4818      \n",
      "_________________________________________________________________\n",
      "prune_low_magnitude_max_pool (None, 5, 5, 16)          1         \n",
      "_________________________________________________________________\n",
      "prune_low_magnitude_batch_no (None, 5, 5, 16)          65        \n",
      "_________________________________________________________________\n",
      "prune_low_magnitude_flatten_ (None, 400)               1         \n",
      "_________________________________________________________________\n",
      "prune_low_magnitude_dense_2  (None, 84)                67286     \n",
      "_________________________________________________________________\n",
      "prune_low_magnitude_dense_3  (None, 50)                8452      \n",
      "=================================================================\n",
      "Total params: 81,557\n",
      "Trainable params: 40,850\n",
      "Non-trainable params: 40,707\n",
      "_________________________________________________________________\n"
     ]
    }
   ],
   "source": [
    "import tensorflow_model_optimization as tfmot\n",
    "batch_size=100\n",
    "epochs = 10\n",
    "prune_low_magnitude = tfmot.sparsity.keras.prune_low_magnitude\n",
    "num_images = len(traindata)\n",
    "end_step = np.ceil(num_images / batch_size).astype(np.int32) * epochs\n",
    "pruning_params = {\n",
    "      'pruning_schedule': tfmot.sparsity.keras.PolynomialDecay(initial_sparsity=0.50,\n",
    "                                                               final_sparsity=0.80,\n",
    "                                                               begin_step=0,\n",
    "                                                               end_step=end_step)\n",
    "}\n",
    "\n",
    "model_for_pruning = prune_low_magnitude(model, **pruning_params)\n",
    "\n",
    "# `prune_low_magnitude` requires a recompile.\n",
    "model_for_pruning.compile(optimizer=sgd,\n",
    "              loss='categorical_crossentropy',\n",
    "              metrics=['accuracy'])\n",
    "\n",
    "model_for_pruning.summary()"
   ]
  },
  {
   "cell_type": "code",
   "execution_count": 38,
   "id": "ea95f971",
   "metadata": {},
   "outputs": [
    {
     "name": "stdout",
     "output_type": "stream",
     "text": [
      "Epoch 1/10\n",
      "  6/634 [..............................] - ETA: 29s - loss: 2.5049 - accuracy: 0.3183WARNING:tensorflow:Callback method `on_train_batch_end` is slow compared to the batch time (batch time: 0.0164s vs `on_train_batch_end` time: 0.0254s). Check your callbacks.\n",
      "634/634 [==============================] - 13s 19ms/step - loss: 2.6296 - accuracy: 0.2815\n",
      "Epoch 2/10\n",
      "634/634 [==============================] - 12s 18ms/step - loss: 2.6216 - accuracy: 0.2810\n",
      "Epoch 3/10\n",
      "634/634 [==============================] - 12s 18ms/step - loss: 2.6255 - accuracy: 0.2809\n",
      "Epoch 4/10\n",
      "634/634 [==============================] - 12s 18ms/step - loss: 2.6340 - accuracy: 0.2780\n",
      "Epoch 5/10\n",
      "634/634 [==============================] - 12s 18ms/step - loss: 2.6395 - accuracy: 0.2803\n",
      "Epoch 6/10\n",
      "634/634 [==============================] - 12s 18ms/step - loss: 2.6462 - accuracy: 0.2772\n",
      "Epoch 7/10\n",
      "634/634 [==============================] - 12s 18ms/step - loss: 2.6472 - accuracy: 0.2776\n",
      "Epoch 8/10\n",
      "634/634 [==============================] - 12s 18ms/step - loss: 2.6419 - accuracy: 0.2792\n",
      "Epoch 9/10\n",
      "634/634 [==============================] - 12s 18ms/step - loss: 2.6365 - accuracy: 0.2812\n",
      "Epoch 10/10\n",
      "634/634 [==============================] - 12s 18ms/step - loss: 2.6275 - accuracy: 0.2833\n"
     ]
    },
    {
     "data": {
      "text/plain": [
       "<keras.callbacks.History at 0x14ba3fdc6d0>"
      ]
     },
     "execution_count": 38,
     "metadata": {},
     "output_type": "execute_result"
    }
   ],
   "source": [
    "import tempfile\n",
    "logdir = tempfile.mkdtemp()\n",
    "\n",
    "callbacks = [\n",
    "  tfmot.sparsity.keras.UpdatePruningStep(),\n",
    "  tfmot.sparsity.keras.PruningSummaries(log_dir=logdir),\n",
    "]\n",
    "model_for_pruning.fit(traindata, traindata_y_keras,\n",
    "                  batch_size=100, epochs=10,\n",
    "                  callbacks=callbacks)"
   ]
  },
  {
   "cell_type": "code",
   "execution_count": 41,
   "id": "7c6348e7",
   "metadata": {},
   "outputs": [
    {
     "name": "stdout",
     "output_type": "stream",
     "text": [
      "0.24444444444444444\n",
      "0.24222222222222223\n"
     ]
    }
   ],
   "source": [
    "y_pred_test = model_for_pruning.predict(testdata)\n",
    "y_pred_val = model_for_pruning.predict(valdata)\n",
    "\n",
    "labels_test = np.argmax(y_pred_test, axis = 1)\n",
    "labels_val = np.argmax(y_pred_val, axis = 1)\n",
    "\n",
    "print(sum(labels_test == testdata_y)/len(testdata_y))\n",
    "print(sum(labels_val == valdata_y)/len(valdata_y))"
   ]
  },
  {
   "cell_type": "markdown",
   "id": "fcab80c1",
   "metadata": {},
   "source": [
    " # 動態圖作法"
   ]
  },
  {
   "cell_type": "code",
   "execution_count": 127,
   "id": "a656aae2",
   "metadata": {},
   "outputs": [],
   "source": [
    "#在這個版本中，神經網路各層設置一樣，只差在額外指定初始化權重的方式，否則在動態圖的方式中網路不會自己初始化。\n",
    "model2 = Sequential()\n",
    "\n",
    "\n",
    "model2.add(Conv2D(6, (5, 5), activation='relu', input_shape=(32, 32, 3), kernel_initializer='random_uniform'))\n",
    "model2.add(MaxPooling2D(pool_size=(2, 2), strides=2, padding='same'))\n",
    "model2.add(BatchNormalization())\n",
    "model2.add(Conv2D(16, (5, 5), activation='relu', kernel_initializer='random_uniform'))\n",
    "model2.add(MaxPooling2D(pool_size=(2, 2), strides=2, padding='same'))\n",
    "model2.add(BatchNormalization())\n",
    "model2.add(Flatten())  \n",
    "model2.add(Dense(84, activation='relu', kernel_initializer='random_uniform'))  \n",
    "model2.add(Dense(50, activation='softmax', kernel_initializer='random_uniform'))  \n",
    "\n",
    "\n",
    "model2.compile(loss='categorical_crossentropy',\n",
    "              optimizer=sgd,\n",
    "              metrics=['accuracy'])\n",
    "\n",
    "def train_step(inputs, labels):\n",
    "    with tf.GradientTape() as tape:\n",
    "        predictions = model2(inputs)\n",
    "        \n",
    "        loss = loss_object(labels, predictions)\n",
    "    gradients = tape.gradient(loss, model2.trainable_variables)\n",
    "    optimizer.apply_gradients(zip(gradients, model2.trainable_variables))\n",
    "    return loss"
   ]
  },
  {
   "cell_type": "code",
   "execution_count": 128,
   "id": "366925ca",
   "metadata": {},
   "outputs": [
    {
     "name": "stdout",
     "output_type": "stream",
     "text": [
      "train start ,  epoch=0 ,  2023-05-28 18:52:31\n",
      "epoch= 0  ,  2023-05-28 18:52:51\n",
      "Epoch 0 loss: 0.03909025341272354\n",
      "train acc=0.0203\n",
      "test  acc=0.0222\n",
      "#======================================================\n",
      "epoch= 1  ,  2023-05-28 18:53:15\n",
      "Epoch 1 loss: 0.03907619044184685\n",
      "train acc=0.0252\n",
      "test  acc=0.0311\n",
      "#======================================================\n",
      "epoch= 2  ,  2023-05-28 18:53:40\n",
      "Epoch 2 loss: 0.0390607975423336\n",
      "train acc=0.0203\n",
      "test  acc=0.0200\n",
      "#======================================================\n",
      "epoch= 3  ,  2023-05-28 18:54:05\n",
      "Epoch 3 loss: 0.03897368535399437\n",
      "train acc=0.0299\n",
      "test  acc=0.0356\n",
      "#======================================================\n",
      "epoch= 4  ,  2023-05-28 18:54:29\n",
      "Epoch 4 loss: 0.03694469854235649\n",
      "train acc=0.0866\n",
      "test  acc=0.0978\n",
      "#======================================================\n",
      "epoch= 5  ,  2023-05-28 18:54:54\n",
      "Epoch 5 loss: 0.035528190433979034\n",
      "train acc=0.1081\n",
      "test  acc=0.0889\n",
      "#======================================================\n",
      "epoch= 6  ,  2023-05-28 18:55:18\n",
      "Epoch 6 loss: 0.0349242128431797\n",
      "train acc=0.1081\n",
      "test  acc=0.1289\n",
      "#======================================================\n",
      "epoch= 7  ,  2023-05-28 18:55:42\n",
      "Epoch 7 loss: 0.03453713282942772\n",
      "train acc=0.1236\n",
      "test  acc=0.1089\n",
      "#======================================================\n",
      "epoch= 8  ,  2023-05-28 18:56:07\n",
      "Epoch 8 loss: 0.03403647989034653\n",
      "train acc=0.1353\n",
      "test  acc=0.1044\n",
      "#======================================================\n",
      "epoch= 9  ,  2023-05-28 18:56:31\n",
      "Epoch 9 loss: 0.03369928151369095\n",
      "train acc=0.1384\n",
      "test  acc=0.1244\n",
      "#======================================================\n"
     ]
    }
   ],
   "source": [
    "print(\"train start , \",\"epoch=0 , \",time.strftime(\"%Y-%m-%d %H:%M:%S\"))  \n",
    "\n",
    "# 訓練模型\n",
    "batch = 100\n",
    "for epoch in range(10):\n",
    "    running_loss = 0.0\n",
    "    rl = list(range(len(traindata)))\n",
    "    random.shuffle(rl)\n",
    "    suffdata = traindata[rl]\n",
    "    suffdata_y = traindata_y[rl]\n",
    "    n = len(traindata)//batch\n",
    "    for j in range(n):\n",
    "        train_data = suffdata[batch*(j):batch*(1+j)]\n",
    "        train_y = suffdata_y[batch*(j):batch*(1+j)] \n",
    "        loss = train_step(train_data, train_y)\n",
    "        running_loss += loss\n",
    "    print(\"epoch=\",epoch,\" , \",time.strftime(\"%Y-%m-%d %H:%M:%S\"))    \n",
    "    print(f\"Epoch {epoch} loss: {running_loss/len(traindata)}\")\n",
    "    y_pred_train = np.argmax(model2.predict(traindata), axis=1)\n",
    "    y_pred_test = np.argmax(model2.predict(testdata), axis=1)\n",
    "    \n",
    "    train_acc = sum(y_pred_train==traindata_y)/len(traindata)\n",
    "    test_acc = sum(y_pred_test==testdata_y)/len(testdata)\n",
    "    \n",
    "    print(\"train acc=%.4f\"%train_acc)\n",
    "    print(\"test  acc=%.4f\"%test_acc)\n",
    "    print(\"#======================================================\")\n",
    "y_pred_val = np.argmax(model2.predict(valdata), axis=1)\n",
    "val_acc = sum(y_pred_val==valdata_y)/len(valdata)"
   ]
  },
  {
   "cell_type": "code",
   "execution_count": 46,
   "id": "4a086816",
   "metadata": {},
   "outputs": [
    {
     "data": {
      "image/png": "[encoded data removed]",
      "text/plain": [
       "<Figure size 432x288 with 1 Axes>"
      ]
     },
     "metadata": {
      "needs_background": "light"
     },
     "output_type": "display_data"
    },
    {
     "data": {
      "image/png": "[encoded data removed]",
      "text/plain": [
       "<Figure size 432x288 with 1 Axes>"
      ]
     },
     "metadata": {
      "needs_background": "light"
     },
     "output_type": "display_data"
    }
   ],
   "source": [
    "epoch = [0,1,2,3,4,5,6,7,8,9]\n",
    "loss=[0.03909,0.03907 ,0.03906,0.03897,0.03694,0.03552,0.03492,0.03453,0.03403,0.03369]\n",
    "accuracy = [0.0203,0.0252,0.0203,0.0299,0.0866,0.1081,0.1081,0.1236,0.1353,0.1384]\n",
    "\n",
    "fig = plt.figure()\n",
    "ax = plt.subplot(111)\n",
    "ax.plot(epoch, loss)\n",
    "plt.title('train loss')  # 添加子标题\n",
    "plt.xlabel('epoch', fontsize=10)  # 添加轴标签\n",
    "plt.ylabel('loss', fontsize=10)\n",
    "fig.savefig('model2_loss.png')\n",
    "\n",
    "fig = plt.figure()\n",
    "ax = plt.subplot(111)\n",
    "ax.plot(epoch, accuracy)\n",
    "plt.title('train accuracy')  # 添加子标题\n",
    "plt.xlabel('epoch', fontsize=10)  # 添加轴标签\n",
    "plt.ylabel('accuracy', fontsize=10)\n",
    "fig.savefig('model2_acc.png')"
   ]
  },
  {
   "cell_type": "code",
   "execution_count": 134,
   "id": "bfc7835c",
   "metadata": {
    "scrolled": true
   },
   "outputs": [
    {
     "data": {
      "text/plain": [
       "0.10666666666666667"
      ]
     },
     "execution_count": 134,
     "metadata": {},
     "output_type": "execute_result"
    }
   ],
   "source": [
    "val_acc"
   ]
  },
  {
   "cell_type": "markdown",
   "id": "0cbeba4f",
   "metadata": {},
   "source": [
    "# pytorch"
   ]
  },
  {
   "cell_type": "code",
   "execution_count": 20,
   "id": "07a3ed14",
   "metadata": {},
   "outputs": [],
   "source": [
    "from torch import nn\n",
    "from torch.nn import functional as F\n",
    "from torch.autograd import Variable\n",
    "import math\n",
    "import torch\n",
    "import random\n",
    "class LeNet5(nn.Module):\n",
    "    def __init__(self):\n",
    "        super().__init__()\n",
    "        self.conv1 = nn.Conv2d(3, 6, 5, padding=2)\n",
    "        self.conv2 = nn.Conv2d(6, 16, 5)\n",
    "        #self.fc1 = nn.Linear(16*5*5, 120)\n",
    "        self.fc1 = nn.Linear(576, 120)\n",
    "        self.fc2 = nn.Linear(120, 84)\n",
    "        self.fc3 = nn.Linear(84, 50)\n",
    "    def forward(self, x):\n",
    "        x = F.max_pool2d(F.relu(self.conv1(x)), (2, 2))\n",
    "        x = F.max_pool2d(F.relu(self.conv2(x)), (2, 2))\n",
    "        x = x.view(-1, self.num_flat_features(x))\n",
    "        x = F.relu(self.fc1(x))\n",
    "        x = F.relu(self.fc2(x))\n",
    "        x = self.fc3(x)\n",
    "        return x\n",
    "    def num_flat_features(self, x):\n",
    "        size = x.size()[1:]\n",
    "        num_features = 1\n",
    "        for s in size:\n",
    "            num_features *= s\n",
    "        return num_features"
   ]
  },
  {
   "cell_type": "code",
   "execution_count": 21,
   "id": "6c31e423",
   "metadata": {
    "scrolled": true
   },
   "outputs": [
    {
     "data": {
      "text/plain": [
       "LeNet5(\n",
       "  (conv1): Conv2d(3, 6, kernel_size=(5, 5), stride=(1, 1), padding=(2, 2))\n",
       "  (conv2): Conv2d(6, 16, kernel_size=(5, 5), stride=(1, 1))\n",
       "  (fc1): Linear(in_features=576, out_features=120, bias=True)\n",
       "  (fc2): Linear(in_features=120, out_features=84, bias=True)\n",
       "  (fc3): Linear(in_features=84, out_features=50, bias=True)\n",
       ")"
      ]
     },
     "execution_count": 21,
     "metadata": {},
     "output_type": "execute_result"
    }
   ],
   "source": [
    "model3 = LeNet5()\n",
    "\n",
    "\n",
    "criterion = nn.CrossEntropyLoss(reduction=\"sum\")\n",
    "optimizer = torch.optim.Adam(model3.parameters(), lr=1e-3, betas=(0.9, 0.99))\n",
    "\n",
    "def weight_init(m):\n",
    "# 使用isinstance来判断m属于什么类型\n",
    "    if isinstance(m, nn.Conv2d):\n",
    "        n = m.kernel_size[0] * m.kernel_size[1] * m.out_channels\n",
    "        m.weight.data.normal_(0, math.sqrt(2. / n))\n",
    "    elif isinstance(m, nn.BatchNorm2d):\n",
    "# m中的weight，bias其实都是Variable，为了能学习参数以及后向传播\n",
    "       m.weight.data.fill_(1)\n",
    "       m.bias.data.zero_()\n",
    "\n",
    "model3.apply(weight_init)"
   ]
  },
  {
   "cell_type": "code",
   "execution_count": 131,
   "id": "790ef467",
   "metadata": {},
   "outputs": [],
   "source": [
    "def train(epoch,data,data_y,batch,record):\n",
    "    model3.train()\n",
    "    #只取能整除的部分做訓練\n",
    "    n = len(data)//batch\n",
    "    #每次疊代都重新打亂，\n",
    "    rl = list(range(len(data)))\n",
    "    random.shuffle(rl)\n",
    "    suffdata = data[rl]\n",
    "    suffdata_y = data_y[rl]\n",
    "    \n",
    "    correct=0\n",
    "    i = 0\n",
    "    for j in range(n):\n",
    "        train_data = suffdata[batch*(j):batch*(1+j)]\n",
    "        train_y = suffdata_y[batch*(j):batch*(1+j)]\n",
    "        optimizer.zero_grad()\n",
    "        output = model3(train_data)\n",
    "        loss = criterion(output, train_y)\n",
    "        pred = output.data.max(1, keepdim=True)[1]\n",
    "        true = train_y.data.max(1, keepdim=True)[1]\n",
    "        correct += sum(pred==true)\n",
    "        i+=len(pred)\n",
    "        loss.backward()\n",
    "        optimizer.step()\n",
    "        if j %100 == 0 :\n",
    "            print(\"train epoch:%d , batch:%d , loss:%.6f , acc:%.6f\"%(epoch,j,loss.data,correct/i))    \n",
    "    print(\"train epoch:%d , batch:%d , loss:%.6f , acc:%.6f\"%(epoch,j,loss.data,correct/i))\n",
    "    record.append([epoch,loss.data,correct/i])\n",
    "    return(record)\n",
    "def test(epoch,data,data_y):\n",
    "    model3.eval()\n",
    "\n",
    "    optimizer.zero_grad()\n",
    "    output = model3(data)\n",
    "    loss = criterion(output, data_y)\n",
    "    pred = output.data.max(1, keepdim=True)[1]\n",
    "    true = data_y.data.max(1, keepdim=True)[1]\n",
    "    correct = sum(pred==true)\n",
    "    i=len(pred)\n",
    "    print(\"test epoch:%d ,          , loss:%.6f , acc:%.6f\"%(epoch,loss.data,correct/i))\n"
   ]
  },
  {
   "cell_type": "code",
   "execution_count": 132,
   "id": "fa380131",
   "metadata": {},
   "outputs": [],
   "source": [
    "traindata_tensor = torch.from_numpy(np.swapaxes(traindata,1,3)).float()\n",
    "traindata_y_tensor = torch.from_numpy(traindata_y_keras).float()\n",
    "\n",
    "testdata_tensor = torch.from_numpy(np.swapaxes(testdata,1,3)).float()\n",
    "testdata_y_tensor = torch.from_numpy(testdata_y_keras).float()\n",
    "\n",
    "valdata_tensor = torch.from_numpy(np.swapaxes(valdata,1,3)).float()\n",
    "valdata_y_tensor = torch.from_numpy(valdata_y_keras).float()\n",
    "\n"
   ]
  },
  {
   "cell_type": "code",
   "execution_count": 133,
   "id": "ced62957",
   "metadata": {},
   "outputs": [
    {
     "name": "stdout",
     "output_type": "stream",
     "text": [
      "epoch= 0  ,  2023-05-28 18:56:35\n",
      "train epoch:0 , batch:0 , loss:1378.164673 , acc:0.000000\n",
      "train epoch:0 , batch:100 , loss:384.367645 , acc:0.029604\n",
      "train epoch:0 , batch:200 , loss:359.681610 , acc:0.041095\n",
      "train epoch:0 , batch:300 , loss:363.678070 , acc:0.050864\n",
      "train epoch:0 , batch:400 , loss:345.730774 , acc:0.058304\n",
      "train epoch:0 , batch:500 , loss:333.163116 , acc:0.066128\n",
      "train epoch:0 , batch:600 , loss:336.051086 , acc:0.072047\n",
      "train epoch:0 , batch:632 , loss:330.282562 , acc:0.074439\n",
      "test epoch:0 ,          , loss:1510.309692 , acc:0.131111\n",
      "epoch= 1  ,  2023-05-28 18:56:43\n",
      "train epoch:1 , batch:0 , loss:328.826538 , acc:0.160000\n",
      "train epoch:1 , batch:100 , loss:335.892151 , acc:0.128119\n",
      "train epoch:1 , batch:200 , loss:335.370117 , acc:0.128806\n",
      "train epoch:1 , batch:300 , loss:332.420959 , acc:0.127973\n",
      "train epoch:1 , batch:400 , loss:315.779175 , acc:0.129077\n",
      "train epoch:1 , batch:500 , loss:324.105469 , acc:0.130220\n",
      "train epoch:1 , batch:600 , loss:311.250427 , acc:0.131481\n",
      "train epoch:1 , batch:632 , loss:310.341827 , acc:0.132070\n",
      "test epoch:1 ,          , loss:1459.570435 , acc:0.128889\n",
      "epoch= 2  ,  2023-05-28 18:56:50\n",
      "train epoch:2 , batch:0 , loss:310.739075 , acc:0.210000\n",
      "train epoch:2 , batch:100 , loss:304.765137 , acc:0.159505\n",
      "train epoch:2 , batch:200 , loss:306.428711 , acc:0.162239\n",
      "train epoch:2 , batch:300 , loss:303.332794 , acc:0.163422\n",
      "train epoch:2 , batch:400 , loss:334.234436 , acc:0.162269\n",
      "train epoch:2 , batch:500 , loss:328.099640 , acc:0.163074\n",
      "train epoch:2 , batch:600 , loss:319.825134 , acc:0.164426\n",
      "train epoch:2 , batch:632 , loss:308.402832 , acc:0.164597\n",
      "test epoch:2 ,          , loss:1422.020874 , acc:0.173333\n",
      "epoch= 3  ,  2023-05-28 18:56:57\n",
      "train epoch:3 , batch:0 , loss:296.051422 , acc:0.250000\n",
      "train epoch:3 , batch:100 , loss:319.103790 , acc:0.181386\n",
      "train epoch:3 , batch:200 , loss:288.997589 , acc:0.181990\n",
      "train epoch:3 , batch:300 , loss:285.066040 , acc:0.184950\n",
      "train epoch:3 , batch:400 , loss:289.199921 , acc:0.185262\n",
      "train epoch:3 , batch:500 , loss:302.200623 , acc:0.185210\n",
      "train epoch:3 , batch:600 , loss:308.156067 , acc:0.185158\n",
      "train epoch:3 , batch:632 , loss:295.057648 , acc:0.185340\n",
      "test epoch:3 ,          , loss:1425.659546 , acc:0.137778\n",
      "epoch= 4  ,  2023-05-28 18:57:04\n",
      "train epoch:4 , batch:0 , loss:300.671753 , acc:0.190000\n",
      "train epoch:4 , batch:100 , loss:286.854218 , acc:0.209604\n",
      "train epoch:4 , batch:200 , loss:302.516449 , acc:0.207711\n",
      "train epoch:4 , batch:300 , loss:292.879333 , acc:0.208272\n",
      "train epoch:4 , batch:400 , loss:318.863647 , acc:0.206833\n",
      "train epoch:4 , batch:500 , loss:307.766815 , acc:0.206307\n",
      "train epoch:4 , batch:600 , loss:314.511780 , acc:0.205275\n",
      "train epoch:4 , batch:632 , loss:301.917236 , acc:0.205276\n",
      "test epoch:4 ,          , loss:1386.567871 , acc:0.177778\n",
      "epoch= 5  ,  2023-05-28 18:57:11\n",
      "train epoch:5 , batch:0 , loss:265.370911 , acc:0.240000\n",
      "train epoch:5 , batch:100 , loss:291.568268 , acc:0.230990\n",
      "train epoch:5 , batch:200 , loss:286.399750 , acc:0.225871\n",
      "train epoch:5 , batch:300 , loss:273.955383 , acc:0.227774\n",
      "train epoch:5 , batch:400 , loss:297.089172 , acc:0.223716\n",
      "train epoch:5 , batch:500 , loss:308.289429 , acc:0.222994\n",
      "train epoch:5 , batch:600 , loss:276.358673 , acc:0.222180\n",
      "train epoch:5 , batch:632 , loss:289.386993 , acc:0.222022\n",
      "test epoch:5 ,          , loss:1378.717529 , acc:0.164444\n",
      "epoch= 6  ,  2023-05-28 18:57:18\n",
      "train epoch:6 , batch:0 , loss:286.853485 , acc:0.200000\n",
      "train epoch:6 , batch:100 , loss:266.185638 , acc:0.245842\n",
      "train epoch:6 , batch:200 , loss:277.083130 , acc:0.241692\n",
      "train epoch:6 , batch:300 , loss:274.631042 , acc:0.240698\n",
      "train epoch:6 , batch:400 , loss:299.650574 , acc:0.239252\n",
      "train epoch:6 , batch:500 , loss:282.802490 , acc:0.237944\n",
      "train epoch:6 , batch:600 , loss:269.302795 , acc:0.235790\n",
      "train epoch:6 , batch:632 , loss:292.049377 , acc:0.234913\n",
      "test epoch:6 ,          , loss:1390.881226 , acc:0.168889\n",
      "epoch= 7  ,  2023-05-28 18:57:26\n",
      "train epoch:7 , batch:0 , loss:266.702271 , acc:0.300000\n",
      "train epoch:7 , batch:100 , loss:223.678436 , acc:0.264257\n",
      "train epoch:7 , batch:200 , loss:278.401031 , acc:0.256269\n",
      "train epoch:7 , batch:300 , loss:256.551666 , acc:0.252525\n",
      "train epoch:7 , batch:400 , loss:289.984802 , acc:0.250998\n",
      "train epoch:7 , batch:500 , loss:296.613617 , acc:0.250399\n",
      "train epoch:7 , batch:600 , loss:285.106750 , acc:0.248785\n",
      "train epoch:7 , batch:632 , loss:273.027893 , acc:0.247994\n",
      "test epoch:7 ,          , loss:1403.824097 , acc:0.155556\n",
      "epoch= 8  ,  2023-05-28 18:57:34\n",
      "train epoch:8 , batch:0 , loss:269.730988 , acc:0.180000\n",
      "train epoch:8 , batch:100 , loss:287.421448 , acc:0.267822\n",
      "train epoch:8 , batch:200 , loss:282.224762 , acc:0.262935\n",
      "train epoch:8 , batch:300 , loss:270.092865 , acc:0.259834\n",
      "train epoch:8 , batch:400 , loss:314.439514 , acc:0.257731\n",
      "train epoch:8 , batch:500 , loss:284.733795 , acc:0.256966\n",
      "train epoch:8 , batch:600 , loss:273.258850 , acc:0.255874\n",
      "train epoch:8 , batch:632 , loss:242.329407 , acc:0.255735\n",
      "test epoch:8 ,          , loss:1371.039062 , acc:0.173333\n",
      "epoch= 9  ,  2023-05-28 18:57:42\n",
      "train epoch:9 , batch:0 , loss:244.397415 , acc:0.330000\n",
      "train epoch:9 , batch:100 , loss:275.726562 , acc:0.269010\n",
      "train epoch:9 , batch:200 , loss:270.791382 , acc:0.272189\n",
      "train epoch:9 , batch:300 , loss:279.944458 , acc:0.272824\n",
      "train epoch:9 , batch:400 , loss:251.899109 , acc:0.272344\n",
      "train epoch:9 , batch:500 , loss:277.864044 , acc:0.269860\n",
      "train epoch:9 , batch:600 , loss:260.083527 , acc:0.267820\n",
      "train epoch:9 , batch:632 , loss:266.533569 , acc:0.267741\n",
      "test epoch:9 ,          , loss:1439.632446 , acc:0.171111\n",
      "test epoch:9 ,          , loss:1450.845093 , acc:0.160000\n",
      "epoch= 9  ,  2023-05-28 18:57:49\n"
     ]
    },
    {
     "data": {
      "text/plain": [
       "[[0, tensor(330.2826), tensor([0.0744])],\n",
       " [1, tensor(310.3418), tensor([0.1321])],\n",
       " [2, tensor(308.4028), tensor([0.1646])],\n",
       " [3, tensor(295.0576), tensor([0.1853])],\n",
       " [4, tensor(301.9172), tensor([0.2053])],\n",
       " [5, tensor(289.3870), tensor([0.2220])],\n",
       " [6, tensor(292.0494), tensor([0.2349])],\n",
       " [7, tensor(273.0279), tensor([0.2480])],\n",
       " [8, tensor(242.3294), tensor([0.2557])],\n",
       " [9, tensor(266.5336), tensor([0.2677])]]"
      ]
     },
     "execution_count": 133,
     "metadata": {},
     "output_type": "execute_result"
    }
   ],
   "source": [
    "record = []\n",
    "for epoch in range(10):\n",
    "    print(\"epoch=\",epoch,\" , \",time.strftime(\"%Y-%m-%d %H:%M:%S\"))\n",
    "    record = train(epoch,traindata_tensor,traindata_y_tensor,batch=100,record=record)\n",
    "    test(epoch,testdata_tensor,testdata_y_tensor)\n",
    "\n",
    "test(epoch,valdata_tensor,valdata_y_tensor)\n",
    "print(\"epoch=\",epoch,\" , \",time.strftime(\"%Y-%m-%d %H:%M:%S\"))\n",
    "record"
   ]
  },
  {
   "cell_type": "code",
   "execution_count": 47,
   "id": "d6f5d762",
   "metadata": {},
   "outputs": [
    {
     "data": {
      "image/png": "[encoded data removed]",
      "text/plain": [
       "<Figure size 432x288 with 1 Axes>"
      ]
     },
     "metadata": {
      "needs_background": "light"
     },
     "output_type": "display_data"
    },
    {
     "data": {
      "image/png": "[encoded data removed]",
      "text/plain": [
       "<Figure size 432x288 with 1 Axes>"
      ]
     },
     "metadata": {
      "needs_background": "light"
     },
     "output_type": "display_data"
    }
   ],
   "source": [
    "epoch = [0,1,2,3,4,5,6,7,8,9]\n",
    "loss=[330.2826,310.3418,308.4028,295.0576,301.9172,289.3870,292.0494,273.0279,242.3294,266.5336]\n",
    "accuracy = [0.0744,0.1321,0.1646,0.1853,0.2053,0.2220,0.2349,0.2480,0.2557,0.2677]\n",
    "\n",
    "fig = plt.figure()\n",
    "ax = plt.subplot(111)\n",
    "ax.plot(epoch, loss)\n",
    "plt.title('train loss')  # 添加子标题\n",
    "plt.xlabel('epoch', fontsize=10)  # 添加轴标签\n",
    "plt.ylabel('loss', fontsize=10)\n",
    "fig.savefig('model3_loss.png')\n",
    "\n",
    "fig = plt.figure()\n",
    "ax = plt.subplot(111)\n",
    "ax.plot(epoch, accuracy)\n",
    "plt.title('train accuracy')  # 添加子标题\n",
    "plt.xlabel('epoch', fontsize=10)  # 添加轴标签\n",
    "plt.ylabel('accuracy', fontsize=10)\n",
    "fig.savefig('model3_acc.png')"
   ]
  },
  {
   "cell_type": "code",
   "execution_count": 15,
   "id": "4e8e79d4",
   "metadata": {},
   "outputs": [],
   "source": [
    "output = model3(valdata_tensor)\n",
    "pred = output.data.max(1, keepdim=True)[1]\n"
   ]
  }
 ],
 "metadata": {
  "kernelspec": {
   "display_name": "Python 3",
   "language": "python",
   "name": "python3"
  },
  "language_info": {
   "codemirror_mode": {
    "name": "ipython",
    "version": 3
   },
   "file_extension": ".py",
   "mimetype": "text/x-python",
   "name": "python",
   "nbconvert_exporter": "python",
   "pygments_lexer": "ipython3",
   "version": "3.8.8"
  }
 },
 "nbformat": 4,
 "nbformat_minor": 5
}
